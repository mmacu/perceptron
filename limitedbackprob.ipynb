{
 "cells": [
  {
   "cell_type": "code",
   "execution_count": 3,
   "metadata": {},
   "outputs": [],
   "source": [
    "import pandas\n",
    "\n",
    "from data_reader import csv_data_read, class_train_files, class_test_files, pres_class_train, pres_class_test, \\\n",
    "    read_test_mnist\n",
    "from nn_visualisation import *\n",
    "\n",
    "from nn_model import *\n",
    "from data_reader import read_train_mnist\n",
    "\n",
    "\n",
    "\n",
    "\n",
    "\n",
    "#,act_f=Sigm,act_fprim=Sigmprim)\n",
    "\n",
    "path='projekt1/classification/'\n",
    "path1='projekt1-oddanie/clasification/'\n",
    "\n",
    "#train_f_name=path+class_train_files[5]\n",
    "#test_f_name=path+class_test_files[5]\n",
    "#pliki na oddaniu:\n",
    "train_f_name=path1+pres_class_train[5]\n",
    "test_f_name=path1+pres_class_test[5]\n",
    "np.random.seed(323)\n",
    "train_data=csv_data_read(train_f_name)\n",
    "test_data=csv_data_read(test_f_name)\n",
    "\n",
    "\n",
    "X,y=read_train_mnist()\n",
    "Xt,yt=read_test_mnist()\n",
    "y=y+1\n",
    "yt=yt+1\n",
    "\n",
    "XY=np.zeros((len(X),len(X[0])+1),dtype=np.float64)\n",
    "XYt=np.zeros((len(Xt),len(Xt[0])+1),dtype=np.float64)\n",
    "for i in range(len(X)):\n",
    "    XY[i][0:len(X[i])]=X[i]\n",
    "\n",
    "    XY[i][-1]=y[i]\n",
    "\n",
    "for i in range(len(Xt)):\n",
    "    XYt[i][0:len(Xt[i])] = Xt[i]\n",
    "\n",
    "    XYt[i][-1] = yt[i]\n",
    "\n",
    "\n",
    "\n"
   ]
  },
  {
   "cell_type": "code",
   "execution_count": 13,
   "metadata": {},
   "outputs": [],
   "source": [
    "m1=nn_model([len(X[0]),800,400,200,10],with_bias=True,act_f=Sigm2,act_fprim=Sigmprim2,\n",
    "            learn_ratio=0.0005,with_noise=False,classifier=True,change_m_ratio=0.99)\n",
    "\n"
   ]
  },
  {
   "cell_type": "code",
   "execution_count": 2,
   "metadata": {},
   "outputs": [],
   "source": [
    "epochs=1\n",
    "\n",
    "vis=SimpleVis(m1)\n",
    "\n",
    "\n"
   ]
  },
  {
   "cell_type": "code",
   "execution_count": 14,
   "metadata": {},
   "outputs": [
    {
     "name": "stdout",
     "output_type": "stream",
     "text": [
      "Bład w trakcie epoki: 2.0\n",
      "Bład w trakcie epoki: 0.5824175824175825\n",
      "Bład w trakcie epoki: 0.5167416291854073\n",
      "Bład w trakcie epoki: 0.47917360879706766\n",
      "Bład w trakcie epoki: 0.44063984003999\n",
      "Bład w trakcie epoki: 0.41931613677264545\n",
      "Bład w trakcie epoki: 0.4052657890351608\n",
      "Bład w trakcie epoki: 0.39265819168690186\n",
      "Bład w trakcie epoki: 0.37732783402074743\n",
      "Bład w trakcie epoki: 0.3631818686812576\n",
      "Bład w trakcie epoki: 0.34866513348665135\n",
      "Bład w trakcie epoki: 0.33942368875556767\n",
      "Bład w trakcie epoki: 0.32797266894425464\n",
      "Bład w trakcie epoki: 0.3206676409506961\n",
      "Bład w trakcie epoki: 0.31319191486322406\n",
      "Bład w trakcie epoki: 0.3066462235850943\n",
      "Bład w trakcie epoki: 0.3009811886757078\n",
      "Bład w trakcie epoki: 0.2951591082877478\n",
      "Bład w trakcie epoki: 0.29103938670073887\n",
      "Bład w trakcie epoki: 0.2828798484290301\n",
      "Bład w trakcie epoki: 0.27873606319684013\n",
      "Bład w trakcie epoki: 0.2730822341793248\n",
      "Bład w trakcie epoki: 0.26998772783055314\n",
      "Bład w trakcie epoki: 0.26659710447371854\n",
      "Bład w trakcie epoki: 0.2618224240656639\n",
      "Bład w trakcie epoki: 0.2591096356145754\n",
      "Bład w trakcie epoki: 0.2564901349948079\n",
      "Bład w trakcie epoki: 0.25236102366579016\n",
      "Bład w trakcie epoki: 0.24849112531695297\n",
      "Bład w trakcie epoki: 0.24499155201544776\n",
      "Bład w trakcie epoki: 0.24079197360087998\n",
      "Bład w trakcie epoki: 0.23741169639689041\n",
      "Bład w trakcie epoki: 0.23521139964376114\n",
      "Bład w trakcie epoki: 0.23302324171994787\n",
      "Bład w trakcie epoki: 0.230081468192112\n",
      "Bład w trakcie epoki: 0.22776492100225706\n",
      "Bład w trakcie epoki: 0.22629926946473708\n",
      "Bład w trakcie epoki: 0.2243723142617767\n",
      "Bład w trakcie epoki: 0.2229678166364043\n",
      "Bład w trakcie epoki: 0.22199430783826055\n",
      "Bład w trakcie epoki: 0.22061948451288718\n",
      "Bład w trakcie epoki: 0.21787273481134606\n",
      "Bład w trakcie epoki: 0.21725673198257184\n",
      "Bład w trakcie epoki: 0.21613450849980234\n",
      "Bład w trakcie epoki: 0.21497238699120474\n",
      "Bład w trakcie epoki: 0.21370636208084265\n",
      "Bład w trakcie epoki: 0.21249538053520575\n",
      "Bład w trakcie epoki: 0.2114210335950299\n",
      "Bład w trakcie epoki: 0.20962063290348118\n",
      "Bład w trakcie epoki: 0.20750596926593334\n",
      "Bład w trakcie epoki: 0.20647587048259033\n",
      "Bład w trakcie epoki: 0.2047606909668438\n",
      "Bład w trakcie epoki: 0.20388069460202687\n",
      "Bład w trakcie epoki: 0.2018452482028641\n",
      "Bład w trakcie epoki: 0.19992222366252477\n",
      "Bład w trakcie epoki: 0.1986145706441701\n",
      "Bład w trakcie epoki: 0.1968714844377779\n",
      "Bład w trakcie epoki: 0.1961719969825091\n",
      "Bład w trakcie epoki: 0.19522077205565422\n",
      "Bład w trakcie epoki: 0.19367468347994102\n",
      "Błąd: 0.19208333333333333\n"
     ]
    },
    {
     "data": {
      "image/png": "[encoded data removed]",
      "text/plain": [
       "<Figure size 432x288 with 1 Axes>"
      ]
     },
     "metadata": {
      "needs_background": "light"
     },
     "output_type": "display_data"
    },
    {
     "name": "stdout",
     "output_type": "stream",
     "text": [
      "Bład w trakcie epoki: 1.0\n",
      "Bład w trakcie epoki: 0.13686313686313686\n",
      "Bład w trakcie epoki: 0.127936031984008\n",
      "Bład w trakcie epoki: 0.13095634788403865\n",
      "Bład w trakcie epoki: 0.12421894526368409\n",
      "Bład w trakcie epoki: 0.1289742051589682\n",
      "Bład w trakcie epoki: 0.12881186468921846\n",
      "Bład w trakcie epoki: 0.12712469647193259\n",
      "Bład w trakcie epoki: 0.1249843769528809\n",
      "Bład w trakcie epoki: 0.12465281635373847\n",
      "Bład w trakcie epoki: 0.12398760123987601\n",
      "Bład w trakcie epoki: 0.12535224070539042\n",
      "Bład w trakcie epoki: 0.12307307724356303\n",
      "Bład w trakcie epoki: 0.12191369894623491\n",
      "Bład w trakcie epoki: 0.1204199700021427\n",
      "Bład w trakcie epoki: 0.12219185387640824\n",
      "Bład w trakcie epoki: 0.12224235985250922\n",
      "Bład w trakcie epoki: 0.12011058173048644\n",
      "Bład w trakcie epoki: 0.1208821732125993\n",
      "Bład w trakcie epoki: 0.12088837429608967\n",
      "Bład w trakcie epoki: 0.12059397030148493\n",
      "Bład w trakcie epoki: 0.12013713632684157\n",
      "Bład w trakcie epoki: 0.11949456842870779\n",
      "Bład w trakcie epoki: 0.1192122081648624\n",
      "Bład w trakcie epoki: 0.11870338735886005\n",
      "Bład w trakcie epoki: 0.11779528818847246\n",
      "Bład w trakcie epoki: 0.11757240106149763\n",
      "Bład w trakcie epoki: 0.11651420317766009\n",
      "Bład w trakcie epoki: 0.11563872718831471\n",
      "Bład w trakcie epoki: 0.11509947932829902\n",
      "Bład w trakcie epoki: 0.11559614679510682\n",
      "Bład w trakcie epoki: 0.11512531853811167\n",
      "Bład w trakcie epoki: 0.11530889659698135\n",
      "Bład w trakcie epoki: 0.11460258780036968\n",
      "Bład w trakcie epoki: 0.11405546895679539\n",
      "Bład w trakcie epoki: 0.1142253078483472\n",
      "Bład w trakcie epoki: 0.11549679175578456\n",
      "Bład w trakcie epoki: 0.11496986567930596\n",
      "Bład w trakcie epoki: 0.11520749453961737\n",
      "Bład w trakcie epoki: 0.11502269172585318\n",
      "Bład w trakcie epoki: 0.1138721531961701\n",
      "Bład w trakcie epoki: 0.11370454379161483\n",
      "Bład w trakcie epoki: 0.11309254541558535\n",
      "Bład w trakcie epoki: 0.11248575614520592\n",
      "Bład w trakcie epoki: 0.11197472784709439\n",
      "Bład w trakcie epoki: 0.1106642074620564\n",
      "Bład w trakcie epoki: 0.11004108606334645\n",
      "Bład w trakcie epoki: 0.10946575604774367\n",
      "Bład w trakcie epoki: 0.10862273702631195\n",
      "Bład w trakcie epoki: 0.10769167976163752\n",
      "Bład w trakcie epoki: 0.10823783524329514\n",
      "Bład w trakcie epoki: 0.10821356443991294\n",
      "Bład w trakcie epoki: 0.10797869271744774\n",
      "Bład w trakcie epoki: 0.10794135959698874\n",
      "Bład w trakcie epoki: 0.10712764578433732\n",
      "Bład w trakcie epoki: 0.10628897656406247\n",
      "Bład w trakcie epoki: 0.10639095730433386\n",
      "Bład w trakcie epoki: 0.1068753179768776\n",
      "Bład w trakcie epoki: 0.10665333356321442\n",
      "Bład w trakcie epoki: 0.10628633412993001\n",
      "Błąd: 0.10645\n"
     ]
    },
    {
     "data": {
      "image/png": "[encoded data removed]",
      "text/plain": [
       "<Figure size 432x288 with 1 Axes>"
      ]
     },
     "metadata": {
      "needs_background": "light"
     },
     "output_type": "display_data"
    },
    {
     "name": "stdout",
     "output_type": "stream",
     "text": [
      "Bład w trakcie epoki: 1.0\n",
      "Bład w trakcie epoki: 0.09290709290709291\n",
      "Bład w trakcie epoki: 0.079960019990005\n",
      "Bład w trakcie epoki: 0.08863712095968011\n",
      "Bład w trakcie epoki: 0.09347663084228942\n",
      "Bład w trakcie epoki: 0.09538092381523695\n",
      "Bład w trakcie epoki: 0.09365105815697383\n",
      "Bład w trakcie epoki: 0.09198685902013998\n",
      "Bład w trakcie epoki: 0.09198850143732033\n",
      "Bład w trakcie epoki: 0.09010109987779136\n",
      "Bład w trakcie epoki: 0.0897910208979102\n",
      "Bład w trakcie epoki: 0.09017362057994728\n",
      "Bład w trakcie epoki: 0.09190900758270144\n",
      "Bład w trakcie epoki: 0.0913006691792939\n",
      "Bład w trakcie epoki: 0.09063638311549176\n",
      "Bład w trakcie epoki: 0.09052729818012133\n",
      "Bład w trakcie epoki: 0.09280669958127617\n",
      "Bład w trakcie epoki: 0.09381801070525263\n",
      "Bład w trakcie epoki: 0.09532803733125937\n",
      "Bład w trakcie epoki: 0.09425819693700331\n",
      "Bład w trakcie epoki: 0.09404529773511325\n",
      "Bład w trakcie epoki: 0.09228131993714585\n",
      "Bład w trakcie epoki: 0.09090495886550612\n",
      "Bład w trakcie epoki: 0.09077866179731316\n",
      "Bład w trakcie epoki: 0.09024623974001084\n",
      "Bład w trakcie epoki: 0.09115635374585017\n",
      "Bład w trakcie epoki: 0.09138110072689512\n",
      "Bład w trakcie epoki: 0.09114477241583645\n",
      "Bład w trakcie epoki: 0.0919610013928074\n",
      "Bład w trakcie epoki: 0.09134167787317679\n",
      "Bład w trakcie epoki: 0.09063031232292257\n",
      "Bład w trakcie epoki: 0.09009386793974387\n",
      "Bład w trakcie epoki: 0.09015343270522796\n",
      "Bład w trakcie epoki: 0.08972455380139996\n",
      "Bład w trakcie epoki: 0.08961501132319638\n",
      "Bład w trakcie epoki: 0.08974029313448187\n",
      "Bład w trakcie epoki: 0.08985861503847116\n",
      "Bład w trakcie epoki: 0.08934893651522932\n",
      "Bład w trakcie epoki: 0.08944501460487882\n",
      "Bład w trakcie epoki: 0.08933104279377452\n",
      "Bład w trakcie epoki: 0.08967275818104548\n",
      "Bład w trakcie epoki: 0.08921733616253262\n",
      "Bład w trakcie epoki: 0.08852170186424133\n",
      "Bład w trakcie epoki: 0.08827701681356248\n",
      "Bład w trakcie epoki: 0.08808890707029386\n",
      "Bład w trakcie epoki: 0.08742027954934335\n",
      "Bład w trakcie epoki: 0.08675898350035868\n",
      "Bład w trakcie epoki: 0.08578540882108891\n",
      "Bład w trakcie epoki: 0.08518572529738964\n",
      "Bład w trakcie epoki: 0.08530438154323382\n",
      "Bład w trakcie epoki: 0.08515829683406331\n",
      "Bład w trakcie epoki: 0.08499833336601244\n",
      "Bład w trakcie epoki: 0.08472913982423415\n",
      "Bład w trakcie epoki: 0.08430029622082602\n",
      "Bład w trakcie epoki: 0.08366511731264235\n",
      "Bład w trakcie epoki: 0.08314394283740295\n",
      "Bład w trakcie epoki: 0.08255209728397707\n",
      "Bład w trakcie epoki: 0.08203364853248189\n",
      "Bład w trakcie epoki: 0.08210203272357373\n",
      "Bład w trakcie epoki: 0.08162573515703124\n",
      "Błąd: 0.0817\n"
     ]
    },
    {
     "data": {
      "image/png": "[encoded data removed]",
      "text/plain": [
       "<Figure size 432x288 with 1 Axes>"
      ]
     },
     "metadata": {
      "needs_background": "light"
     },
     "output_type": "display_data"
    }
   ],
   "source": [
    "learning_error=m1.fit(XY,epochs=epochs,vis=vis)\n"
   ]
  },
  {
   "cell_type": "code",
   "execution_count": 6,
   "metadata": {},
   "outputs": [],
   "source": [
    "epochs=3\n"
   ]
  },
  {
   "cell_type": "code",
   "execution_count": 15,
   "metadata": {},
   "outputs": [
    {
     "name": "stdout",
     "output_type": "stream",
     "text": [
      "Bład w trakcie epoki: 1.0\n",
      "Bład w trakcie epoki: 0.06693306693306693\n",
      "Bład w trakcie epoki: 0.0704647676161919\n",
      "Bład w trakcie epoki: 0.07197600799733422\n",
      "Bład w trakcie epoki: 0.07448137965508622\n",
      "Bład w trakcie epoki: 0.07318536292741452\n",
      "Bład w trakcie epoki: 0.0726545575737377\n",
      "Bład w trakcie epoki: 0.07298957291815455\n",
      "Bład w trakcie epoki: 0.0726159230096238\n",
      "Bład w trakcie epoki: 0.07176980335518275\n",
      "Bład w trakcie epoki: 0.07219278072192781\n",
      "Bład w trakcie epoki: 0.07335696754840469\n",
      "Bład w trakcie epoki: 0.07449379218398466\n",
      "Bład w trakcie epoki: 0.07530189985385739\n",
      "Bład w trakcie epoki: 0.076065995286051\n",
      "Bład w trakcie epoki: 0.07672821811879207\n",
      "Bład w trakcie epoki: 0.07680769951878008\n",
      "Bład w trakcie epoki: 0.07740721134050939\n",
      "Bład w trakcie epoki: 0.07671796011332704\n",
      "Bład w trakcie epoki: 0.0761538866375454\n",
      "Bład w trakcie epoki: 0.07604619769011549\n",
      "Bład w trakcie epoki: 0.07685348316746822\n",
      "Bład w trakcie epoki: 0.07695104767965093\n",
      "Bład w trakcie epoki: 0.07686622320768663\n",
      "Bład w trakcie epoki: 0.07670513728594641\n",
      "Bład w trakcie epoki: 0.07595696172153114\n",
      "Bład w trakcie epoki: 0.0761509172724126\n",
      "Bład w trakcie epoki: 0.0754416503092478\n",
      "Bład w trakcie epoki: 0.0747116174422342\n",
      "Bład w trakcie epoki: 0.07392848522464743\n",
      "Bład w trakcie epoki: 0.07309756341455285\n",
      "Bład w trakcie epoki: 0.07309441630915131\n",
      "Bład w trakcie epoki: 0.07365394831411519\n",
      "Bład w trakcie epoki: 0.07339171540256356\n",
      "Bład w trakcie epoki: 0.07332137290079703\n",
      "Bład w trakcie epoki: 0.07279792005942687\n",
      "Bład w trakcie epoki: 0.07302574928474209\n",
      "Bład w trakcie epoki: 0.07313315856328208\n",
      "Bład w trakcie epoki: 0.07334017525854583\n",
      "Bład w trakcie epoki: 0.07276736493936053\n",
      "Bład w trakcie epoki: 0.072123196920077\n",
      "Bład w trakcie epoki: 0.07187629570010487\n",
      "Bład w trakcie epoki: 0.07202209471203067\n",
      "Bład w trakcie epoki: 0.07232389944419897\n",
      "Bład w trakcie epoki: 0.07218017772323357\n",
      "Bład w trakcie epoki: 0.0717095175662763\n",
      "Bład w trakcie epoki: 0.0714114910545423\n",
      "Bład w trakcie epoki: 0.07208357268994277\n",
      "Bład w trakcie epoki: 0.07212349742713693\n",
      "Bład w trakcie epoki: 0.07185567641476705\n",
      "Bład w trakcie epoki: 0.07125857482850342\n",
      "Bład w trakcie epoki: 0.07113586008117488\n",
      "Bład w trakcie epoki: 0.07171015942001116\n",
      "Bład w trakcie epoki: 0.07147034961604498\n",
      "Bład w trakcie epoki: 0.07138756689690931\n",
      "Bład w trakcie epoki: 0.07143506481700333\n",
      "Bład w trakcie epoki: 0.07189157336476135\n",
      "Bład w trakcie epoki: 0.07245486921282082\n",
      "Bład w trakcie epoki: 0.0726021965138532\n",
      "Bład w trakcie epoki: 0.07257504110099829\n",
      "Błąd: 0.07253333333333334\n"
     ]
    },
    {
     "data": {
      "image/png": "[encoded data removed]",
      "text/plain": [
       "<Figure size 432x288 with 1 Axes>"
      ]
     },
     "metadata": {
      "needs_background": "light"
     },
     "output_type": "display_data"
    },
    {
     "name": "stdout",
     "output_type": "stream",
     "text": [
      "Bład w trakcie epoki: 0.0\n",
      "Bład w trakcie epoki: 0.07392607392607392\n",
      "Bład w trakcie epoki: 0.06896551724137931\n",
      "Bład w trakcie epoki: 0.06664445184938354\n",
      "Bład w trakcie epoki: 0.0667333166708323\n",
      "Bład w trakcie epoki: 0.0661867626474705\n",
      "Bład w trakcie epoki: 0.06215630728211965\n",
      "Bład w trakcie epoki: 0.05999142979574346\n",
      "Bład w trakcie epoki: 0.06124234470691164\n",
      "Bład w trakcie epoki: 0.06432618597933563\n",
      "Bład w trakcie epoki: 0.06409359064093591\n",
      "Bład w trakcie epoki: 0.06272157076629398\n",
      "Bład w trakcie epoki: 0.062244812932255644\n",
      "Bład w trakcie epoki: 0.0643027459426198\n",
      "Bład w trakcie epoki: 0.06406685236768803\n",
      "Bład w trakcie epoki: 0.06372908472768482\n",
      "Bład w trakcie epoki: 0.06349603149803137\n",
      "Bład w trakcie epoki: 0.0637021351685195\n",
      "Bład w trakcie epoki: 0.0640519971112716\n",
      "Bład w trakcie epoki: 0.0638387453291932\n",
      "Bład w trakcie epoki: 0.06324683765811709\n",
      "Bład w trakcie epoki: 0.06375886862530356\n",
      "Bład w trakcie epoki: 0.063133493932094\n",
      "Bład w trakcie epoki: 0.06260597365331942\n",
      "Bład w trakcie epoki: 0.063164034831882\n",
      "Bład w trakcie epoki: 0.06295748170073197\n",
      "Bład w trakcie epoki: 0.06349755778623899\n",
      "Bład w trakcie epoki: 0.0628495240917003\n",
      "Bład w trakcie epoki: 0.06235491589586086\n",
      "Bład w trakcie epoki: 0.062204751560291024\n",
      "Bład w trakcie epoki: 0.062031265624479186\n",
      "Bład w trakcie epoki: 0.06141737363310861\n",
      "Bład w trakcie epoki: 0.06106059185650448\n",
      "Bład w trakcie epoki: 0.060755734674706824\n",
      "Bład w trakcie epoki: 0.06061586423928708\n",
      "Bład w trakcie epoki: 0.061226822090797405\n",
      "Bład w trakcie epoki: 0.061442737701730504\n",
      "Bład w trakcie epoki: 0.0614037458447069\n",
      "Bład w trakcie epoki: 0.06165627220336307\n",
      "Bład w trakcie epoki: 0.06140868182867106\n",
      "Bład w trakcie epoki: 0.06112347191320217\n",
      "Bład w trakcie epoki: 0.061096070827540795\n",
      "Bład w trakcie epoki: 0.060689031213542535\n",
      "Bład w trakcie epoki: 0.06064975233134113\n",
      "Bład w trakcie epoki: 0.0603168109815686\n",
      "Bład w trakcie epoki: 0.059665340770205105\n",
      "Bład w trakcie epoki: 0.05925958131344971\n",
      "Bład w trakcie epoki: 0.05906257313674177\n",
      "Bład w trakcie epoki: 0.05904043665756963\n",
      "Bład w trakcie epoki: 0.05881512622191384\n",
      "Bład w trakcie epoki: 0.05855882882342353\n",
      "Bład w trakcie epoki: 0.0589400207839062\n",
      "Bład w trakcie epoki: 0.05905655660468068\n",
      "Bład w trakcie epoki: 0.059055489519065675\n",
      "Bład w trakcie epoki: 0.05931371641265903\n",
      "Bład w trakcie epoki: 0.05968982382138507\n",
      "Bład w trakcie epoki: 0.05990964447063445\n",
      "Bład w trakcie epoki: 0.0597708812126103\n",
      "Bład w trakcie epoki: 0.05972310822227203\n",
      "Bład w trakcie epoki: 0.05967695462788766\n",
      "Błąd: 0.05965\n"
     ]
    },
    {
     "data": {
      "image/png": "[encoded data removed]",
      "text/plain": [
       "<Figure size 432x288 with 1 Axes>"
      ]
     },
     "metadata": {
      "needs_background": "light"
     },
     "output_type": "display_data"
    },
    {
     "name": "stdout",
     "output_type": "stream",
     "text": [
      "Bład w trakcie epoki: 1.0\n",
      "Bład w trakcie epoki: 0.04695304695304695\n",
      "Bład w trakcie epoki: 0.05297351324337831\n",
      "Bład w trakcie epoki: 0.05764745084971676\n",
      "Bład w trakcie epoki: 0.05973506623344164\n",
      "Bład w trakcie epoki: 0.05898820235952809\n",
      "Bład w trakcie epoki: 0.0563239460089985\n",
      "Bład w trakcie epoki: 0.059420082845307816\n",
      "Bład w trakcie epoki: 0.06111736032995876\n",
      "Bład w trakcie epoki: 0.059548939006777026\n",
      "Bład w trakcie epoki: 0.05849415058494151\n",
      "Bład w trakcie epoki: 0.05835833106081265\n",
      "Bład w trakcie epoki: 0.05707857678526789\n",
      "Bład w trakcie epoki: 0.05668794708099377\n",
      "Bład w trakcie epoki: 0.05806728090850653\n",
      "Bład w trakcie epoki: 0.05852943137124192\n",
      "Bład w trakcie epoki: 0.05874632835447784\n",
      "Bład w trakcie epoki: 0.05782012822775131\n",
      "Bład w trakcie epoki: 0.056719071162713186\n",
      "Bład w trakcie epoki: 0.056997000157886425\n",
      "Bład w trakcie epoki: 0.057697115144242785\n",
      "Bład w trakcie epoki: 0.05794962144659778\n",
      "Bład w trakcie epoki: 0.05831553111222217\n",
      "Bład w trakcie epoki: 0.05769314377635755\n",
      "Bład w trakcie epoki: 0.0587892171159535\n",
      "Bład w trakcie epoki: 0.05811767529298828\n",
      "Bład w trakcie epoki: 0.05707472789508096\n",
      "Bład w trakcie epoki: 0.05636828265619792\n",
      "Bład w trakcie epoki: 0.055498017927931145\n",
      "Bład w trakcie epoki: 0.0558256611840971\n",
      "Bład w trakcie epoki: 0.056264791173627544\n",
      "Bład w trakcie epoki: 0.05641753491822844\n",
      "Bład w trakcie epoki: 0.056591981500578106\n",
      "Bład w trakcie epoki: 0.05605890730583922\n",
      "Bład w trakcie epoki: 0.05599835298961795\n",
      "Bład w trakcie epoki: 0.055884117596640095\n",
      "Bład w trakcie epoki: 0.05549845837615622\n",
      "Bład w trakcie epoki: 0.05524175022296695\n",
      "Bład w trakcie epoki: 0.05510381305755112\n",
      "Bład w trakcie epoki: 0.054896028306966486\n",
      "Bład w trakcie epoki: 0.05494862628434289\n",
      "Bład w trakcie epoki: 0.05546206190092925\n",
      "Bład w trakcie epoki: 0.05559391443060879\n",
      "Bład w trakcie epoki: 0.05623125043603637\n",
      "Bład w trakcie epoki: 0.05674871025658508\n",
      "Bład w trakcie epoki: 0.05690984644785672\n",
      "Bład w trakcie epoki: 0.05662920371296276\n",
      "Bład w trakcie epoki: 0.056786025829237675\n",
      "Bład w trakcie epoki: 0.056686319035020104\n",
      "Bład w trakcie epoki: 0.05601926491296096\n",
      "Bład w trakcie epoki: 0.05583888322233555\n",
      "Bład w trakcie epoki: 0.05582243485421855\n",
      "Bład w trakcie epoki: 0.055787388704063384\n",
      "Bład w trakcie epoki: 0.05550838663421445\n",
      "Bład w trakcie epoki: 0.05573970852391622\n",
      "Bład w trakcie epoki: 0.055689896547335506\n",
      "Bład w trakcie epoki: 0.05580257495401868\n",
      "Bład w trakcie epoki: 0.05577095138681778\n",
      "Bład w trakcie epoki: 0.05577490043275116\n",
      "Bład w trakcie epoki: 0.055473636040067116\n",
      "Błąd: 0.05565\n"
     ]
    },
    {
     "data": {
      "image/png": "[encoded data removed]",
      "text/plain": [
       "<Figure size 432x288 with 1 Axes>"
      ]
     },
     "metadata": {
      "needs_background": "light"
     },
     "output_type": "display_data"
    }
   ],
   "source": [
    "learning_error=m1.fit(XY,epochs=epochs,vis=vis)"
   ]
  },
  {
   "cell_type": "code",
   "execution_count": 16,
   "metadata": {},
   "outputs": [
    {
     "name": "stdout",
     "output_type": "stream",
     "text": [
      "Bład w trakcie epoki: 0.0\n",
      "Bład w trakcie epoki: 0.04495504495504495\n",
      "Bład w trakcie epoki: 0.046476761619190406\n",
      "Bład w trakcie epoki: 0.04765078307230923\n",
      "Bład w trakcie epoki: 0.04498875281179705\n",
      "Bład w trakcie epoki: 0.046990601879624075\n",
      "Bład w trakcie epoki: 0.04382602899516747\n",
      "Bład w trakcie epoki: 0.04427938865876303\n",
      "Bład w trakcie epoki: 0.04349456317960255\n",
      "Bład w trakcie epoki: 0.04355071658704588\n",
      "Bład w trakcie epoki: 0.043195680431956804\n",
      "Bład w trakcie epoki: 0.04317789291882556\n",
      "Bład w trakcie epoki: 0.04366302808099325\n",
      "Bład w trakcie epoki: 0.04368894700407661\n",
      "Bład w trakcie epoki: 0.0439968573673309\n",
      "Bład w trakcie epoki: 0.04693020465302313\n",
      "Bład w trakcie epoki: 0.04924692206737079\n",
      "Bład w trakcie epoki: 0.04935003823304512\n",
      "Bład w trakcie epoki: 0.04955280262207655\n",
      "Bład w trakcie epoki: 0.0501026261775696\n",
      "Bład w trakcie epoki: 0.051347432628368585\n",
      "Bład w trakcie epoki: 0.05171182324651207\n",
      "Bład w trakcie epoki: 0.05158856415617472\n",
      "Bład w trakcie epoki: 0.050997782705099776\n",
      "Bład w trakcie epoki: 0.05053956085163118\n",
      "Bład w trakcie epoki: 0.05027798888044478\n",
      "Bład w trakcie epoki: 0.05007499711549556\n",
      "Bład w trakcie epoki: 0.050294433539498536\n",
      "Bład w trakcie epoki: 0.04981964929823935\n",
      "Bład w trakcie epoki: 0.049239681390296886\n",
      "Bład w trakcie epoki: 0.04873170894303523\n",
      "Bład w trakcie epoki: 0.048869391309957745\n",
      "Bład w trakcie epoki: 0.04874847661010594\n",
      "Bład w trakcie epoki: 0.04854398351565104\n",
      "Bład w trakcie epoki: 0.04849857357136555\n",
      "Bład w trakcie epoki: 0.04822719350875689\n",
      "Bład w trakcie epoki: 0.048304213771839674\n",
      "Bład w trakcie epoki: 0.04840409718656252\n",
      "Bład w trakcie epoki: 0.047893476487460854\n",
      "Bład w trakcie epoki: 0.047409040793825796\n",
      "Bład w trakcie epoki: 0.04692382690432739\n",
      "Bład w trakcie epoki: 0.04648667105680349\n",
      "Bład w trakcie epoki: 0.045975095831051645\n",
      "Bład w trakcie epoki: 0.04618497244250134\n",
      "Bład w trakcie epoki: 0.046408036180995885\n",
      "Bład w trakcie epoki: 0.04657674273905024\n",
      "Bład w trakcie epoki: 0.04682506902023869\n",
      "Bład w trakcie epoki: 0.0470628284504585\n",
      "Bład w trakcie epoki: 0.04726984854482198\n",
      "Bład w trakcie epoki: 0.048243913389522664\n",
      "Bład w trakcie epoki: 0.04819903601927961\n",
      "Bład w trakcie epoki: 0.04795984392462893\n",
      "Bład w trakcie epoki: 0.04759523855310475\n",
      "Bład w trakcie epoki: 0.047338729457934756\n",
      "Bład w trakcie epoki: 0.04716579322605137\n",
      "Bład w trakcie epoki: 0.04710823439573826\n",
      "Bład w trakcie epoki: 0.047017017553257975\n",
      "Bład w trakcie epoki: 0.046999175453062224\n",
      "Bład w trakcie epoki: 0.047016430751193945\n",
      "Bład w trakcie epoki: 0.04696530567278521\n",
      "Błąd: 0.04685\n"
     ]
    },
    {
     "data": {
      "image/png": "[encoded data removed]",
      "text/plain": [
       "<Figure size 432x288 with 1 Axes>"
      ]
     },
     "metadata": {
      "needs_background": "light"
     },
     "output_type": "display_data"
    },
    {
     "name": "stdout",
     "output_type": "stream",
     "text": [
      "Bład w trakcie epoki: 0.0\n",
      "Bład w trakcie epoki: 0.03896103896103896\n",
      "Bład w trakcie epoki: 0.04847576211894053\n",
      "Bład w trakcie epoki: 0.04565144951682772\n",
      "Bład w trakcie epoki: 0.04373906523369158\n",
      "Bład w trakcie epoki: 0.044191161767646474\n",
      "Bład w trakcie epoki: 0.041993001166472255\n",
      "Bład w trakcie epoki: 0.04070847021854021\n",
      "Bład w trakcie epoki: 0.04011998500187477\n",
      "Bład w trakcie epoki: 0.042439728919009\n",
      "Bład w trakcie epoki: 0.042995700429957005\n",
      "Bład w trakcie epoki: 0.04354149622761567\n",
      "Bład w trakcie epoki: 0.045246229480876594\n",
      "Bład w trakcie epoki: 0.045842627490193064\n",
      "Bład w trakcie epoki: 0.04513963288336548\n",
      "Bład w trakcie epoki: 0.045730284647690154\n",
      "Bład w trakcie epoki: 0.04643459783763515\n",
      "Bład w trakcie epoki: 0.04587965413799188\n",
      "Bład w trakcie epoki: 0.04483084273095939\n",
      "Bład w trakcie epoki: 0.04468185884953423\n",
      "Bład w trakcie epoki: 0.044747762611869406\n",
      "Bład w trakcie epoki: 0.045331174705966384\n",
      "Bład w trakcie epoki: 0.04613426662424435\n",
      "Bład w trakcie epoki: 0.046084952828137904\n",
      "Bład w trakcie epoki: 0.045998083413191115\n",
      "Bład w trakcie epoki: 0.04583816647334107\n",
      "Bład w trakcie epoki: 0.045805930541133036\n",
      "Bład w trakcie epoki: 0.046035332024739826\n",
      "Bład w trakcie epoki: 0.04574836612978108\n",
      "Bład w trakcie epoki: 0.04527430088617634\n",
      "Bład w trakcie epoki: 0.04489850338322056\n",
      "Bład w trakcie epoki: 0.04454695009838392\n",
      "Bład w trakcie epoki: 0.044748601606199805\n",
      "Bład w trakcie epoki: 0.04481682373261416\n",
      "Bład w trakcie epoki: 0.044704567512720214\n",
      "Bład w trakcie epoki: 0.04411302534213308\n",
      "Bład w trakcie epoki: 0.043943223799338904\n",
      "Bład w trakcie epoki: 0.044079889732709925\n",
      "Bład w trakcie epoki: 0.04376200626299308\n",
      "Bład w trakcie epoki: 0.043639906669059765\n",
      "Bład w trakcie epoki: 0.04334891627709307\n",
      "Bład w trakcie epoki: 0.043072120192190436\n",
      "Bład w trakcie epoki: 0.04266565081783767\n",
      "Bład w trakcie epoki: 0.04271993674565708\n",
      "Bład w trakcie epoki: 0.043044476261903136\n",
      "Bład w trakcie epoki: 0.04304348792249061\n",
      "Bład w trakcie epoki: 0.04299906523771222\n",
      "Bład w trakcie epoki: 0.0431267419842131\n",
      "Bład w trakcie epoki: 0.042936605487385676\n",
      "Bład w trakcie epoki: 0.0427542295055203\n",
      "Bład w trakcie epoki: 0.042679146417071656\n",
      "Bład w trakcie epoki: 0.04260700770573126\n",
      "Bład w trakcie epoki: 0.042441491509778655\n",
      "Bład w trakcie epoki: 0.04201807513065791\n",
      "Bład w trakcie epoki: 0.041721449602785135\n",
      "Bład w trakcie epoki: 0.04207196232795767\n",
      "Bład w trakcie epoki: 0.04232067284512776\n",
      "Bład w trakcie epoki: 0.04206943737829161\n",
      "Bład w trakcie epoki: 0.04208548128480544\n",
      "Bład w trakcie epoki: 0.042202674530940155\n",
      "Błąd: 0.04198333333333333\n"
     ]
    },
    {
     "data": {
      "image/png": "[encoded data removed]",
      "text/plain": [
       "<Figure size 432x288 with 1 Axes>"
      ]
     },
     "metadata": {
      "needs_background": "light"
     },
     "output_type": "display_data"
    },
    {
     "name": "stdout",
     "output_type": "stream",
     "text": [
      "Bład w trakcie epoki: 0.0\n",
      "Bład w trakcie epoki: 0.04895104895104895\n",
      "Bład w trakcie epoki: 0.05547226386806597\n",
      "Bład w trakcie epoki: 0.054315228257247584\n",
      "Bład w trakcie epoki: 0.047988002999250184\n",
      "Bład w trakcie epoki: 0.04839032193561288\n",
      "Bład w trakcie epoki: 0.04382602899516747\n",
      "Bład w trakcie epoki: 0.041422653906584776\n",
      "Bład w trakcie epoki: 0.04024496937882765\n",
      "Bład w trakcie epoki: 0.03988445728252416\n",
      "Bład w trakcie epoki: 0.039196080391960805\n",
      "Bład w trakcie epoki: 0.038905554040541766\n",
      "Bład w trakcie epoki: 0.03966336138655112\n",
      "Bład w trakcie epoki: 0.04053534343512038\n",
      "Bład w trakcie epoki: 0.03935433183344047\n",
      "Bład w trakcie epoki: 0.03879741350576628\n",
      "Bład w trakcie epoki: 0.0386850821823636\n",
      "Bład w trakcie epoki: 0.03799776483736251\n",
      "Bład w trakcie epoki: 0.037164601966557416\n",
      "Bład w trakcie epoki: 0.03673490868901637\n",
      "Bład w trakcie epoki: 0.03654817259137043\n",
      "Bład w trakcie epoki: 0.03618875291652778\n",
      "Bład w trakcie epoki: 0.03577110131357666\n",
      "Bład w trakcie epoki: 0.036302769444806746\n",
      "Bład w trakcie epoki: 0.03704012332819466\n",
      "Bład w trakcie epoki: 0.037558497660093594\n",
      "Bład w trakcie epoki: 0.03784469828083535\n",
      "Bład w trakcie epoki: 0.037924521314025406\n",
      "Bład w trakcie epoki: 0.0371415306596193\n",
      "Bład w trakcie epoki: 0.036895279473121614\n",
      "Bład w trakcie epoki: 0.0371654278190727\n",
      "Bład w trakcie epoki: 0.03767620399341957\n",
      "Bład w trakcie epoki: 0.03859254398300053\n",
      "Bład w trakcie epoki: 0.038817005545286505\n",
      "Bład w trakcie epoki: 0.038998852974912505\n",
      "Bład w trakcie epoki: 0.03902745635838976\n",
      "Bład w trakcie epoki: 0.039360017777283964\n",
      "Bład w trakcie epoki: 0.03905299856760628\n",
      "Bład w trakcie epoki: 0.0386568774505934\n",
      "Bład w trakcie epoki: 0.039152842234814494\n",
      "Bład w trakcie epoki: 0.03937401564960876\n",
      "Bład w trakcie epoki: 0.03912099704885247\n",
      "Bład w trakcie epoki: 0.03888002666603176\n",
      "Bład w trakcie epoki: 0.038673519220483246\n",
      "Bład w trakcie epoki: 0.038840026363037204\n",
      "Bład w trakcie epoki: 0.03899913335259216\n",
      "Bład w trakcie epoki: 0.039390448033738396\n",
      "Bład w trakcie epoki: 0.03961617837918342\n",
      "Bład w trakcie epoki: 0.03960334159705006\n",
      "Bład w trakcie epoki: 0.039591028754515215\n",
      "Bład w trakcie epoki: 0.03969920601587968\n",
      "Bład w trakcie epoki: 0.03964628144546185\n",
      "Bład w trakcie epoki: 0.03919155400857676\n",
      "Bład w trakcie epoki: 0.03920680741872795\n",
      "Bład w trakcie epoki: 0.038980759615562674\n",
      "Bład w trakcie epoki: 0.03927201323612298\n",
      "Bład w trakcie epoki: 0.03926715594364386\n",
      "Bład w trakcie epoki: 0.039122120664549745\n",
      "Bład w trakcie epoki: 0.039447595731108086\n",
      "Bład w trakcie epoki: 0.03954170268300537\n",
      "Błąd: 0.03938333333333333\n"
     ]
    },
    {
     "data": {
      "image/png": "[encoded data removed]",
      "text/plain": [
       "<Figure size 432x288 with 1 Axes>"
      ]
     },
     "metadata": {
      "needs_background": "light"
     },
     "output_type": "display_data"
    }
   ],
   "source": [
    "learning_error=m1.fit(XY,epochs=epochs,vis=vis)"
   ]
  },
  {
   "cell_type": "code",
   "execution_count": 43,
   "metadata": {},
   "outputs": [
    {
     "name": "stdout",
     "output_type": "stream",
     "text": [
      "Bład w trakcie epoki: 0.0\n",
      "Bład w trakcie epoki: 0.007992007992007992\n",
      "Bład w trakcie epoki: 0.00849575212393803\n",
      "Bład w trakcie epoki: 0.008997000999666778\n",
      "Bład w trakcie epoki: 0.00899775056235941\n",
      "Bład w trakcie epoki: 0.007598480303939212\n",
      "Bład w trakcie epoki: 0.0066655557407098815\n",
      "Bład w trakcie epoki: 0.005856306241965433\n",
      "Bład w trakcie epoki: 0.0054993125859267595\n",
      "Bład w trakcie epoki: 0.00511054327296967\n",
      "Bład w trakcie epoki: 0.0047995200479952005\n",
      "Bład w trakcie epoki: 0.005363148804654123\n",
      "Bład w trakcie epoki: 0.005499541704857928\n",
      "Bład w trakcie epoki: 0.0058457041766018\n",
      "Bład w trakcie epoki: 0.005499607170916363\n",
      "Bład w trakcie epoki: 0.005266315578961403\n",
      "Bład w trakcie epoki: 0.00512467970751828\n",
      "Bład w trakcie epoki: 0.0049408858302452795\n",
      "Bład w trakcie epoki: 0.0048886172990389425\n",
      "Bład w trakcie epoki: 0.004789221619914742\n",
      "Bład w trakcie epoki: 0.004649767511624419\n",
      "Bład w trakcie epoki: 0.004523594114565973\n",
      "Bład w trakcie epoki: 0.004454342984409799\n",
      "Bład w trakcie epoki: 0.004478066171036042\n",
      "Bład w trakcie epoki: 0.004666472230323736\n",
      "Bład w trakcie epoki: 0.00499980000799968\n",
      "Bład w trakcie epoki: 0.00507672781816084\n",
      "Bład w trakcie epoki: 0.005036850487019\n",
      "Bład w trakcie epoki: 0.005142673475947287\n",
      "Bład w trakcie epoki: 0.005068790731354091\n",
      "Bład w trakcie epoki: 0.005133162227925736\n",
      "Bład w trakcie epoki: 0.005096609786781072\n",
      "Bład w trakcie epoki: 0.00499984375488266\n",
      "Bład w trakcie epoki: 0.004939244265325294\n",
      "Bład w trakcie epoki: 0.004882209346783918\n",
      "Bład w trakcie epoki: 0.0047712922487928916\n",
      "Bład w trakcie epoki: 0.004749868059220577\n",
      "Bład w trakcie epoki: 0.004702575606064701\n",
      "Bład w trakcie epoki: 0.004657772163890424\n",
      "Bład w trakcie epoki: 0.004692187379810774\n",
      "Bład w trakcie epoki: 0.004649883752906177\n",
      "Bład w trakcie epoki: 0.00465842296529353\n",
      "Bład w trakcie epoki: 0.004666555558200995\n",
      "Bład w trakcie epoki: 0.004744075719169322\n",
      "Bład w trakcie epoki: 0.004658985023067657\n",
      "Bład w trakcie epoki: 0.004688784693673474\n",
      "Bład w trakcie epoki: 0.004608595465315972\n",
      "Bład w trakcie epoki: 0.004680751473372907\n",
      "Bład w trakcie epoki: 0.004666569446469865\n",
      "Bład w trakcie epoki: 0.004612150772433215\n",
      "Bład w trakcie epoki: 0.004559908801823964\n",
      "Bład w trakcie epoki: 0.004490108037097312\n",
      "Bład w trakcie epoki: 0.004403761466125651\n",
      "Bład w trakcie epoki: 0.004415011037527594\n",
      "Bład w trakcie epoki: 0.004351771263495121\n",
      "Bład w trakcie epoki: 0.004345375538626571\n",
      "Bład w trakcie epoki: 0.004339208228424493\n",
      "Bład w trakcie epoki: 0.004333257311275241\n",
      "Bład w trakcie epoki: 0.004344752676677988\n",
      "Bład w trakcie epoki: 0.004406704971102185\n",
      "Błąd: 0.004383333333333334\n"
     ]
    },
    {
     "data": {
      "image/png": "[encoded data removed]",
      "text/plain": [
       "<Figure size 432x288 with 1 Axes>"
      ]
     },
     "metadata": {
      "needs_background": "light"
     },
     "output_type": "display_data"
    },
    {
     "name": "stdout",
     "output_type": "stream",
     "text": [
      "Bład w trakcie epoki: 0.0\n",
      "Bład w trakcie epoki: 0.011988011988011988\n",
      "Bład w trakcie epoki: 0.008995502248875561\n",
      "Bład w trakcie epoki: 0.008997000999666778\n",
      "Bład w trakcie epoki: 0.00849787553111722\n",
      "Bład w trakcie epoki: 0.007798440311937612\n",
      "Bład w trakcie epoki: 0.007498750208298617\n",
      "Bład w trakcie epoki: 0.006713326667618912\n",
      "Bład w trakcie epoki: 0.006624171978502687\n",
      "Bład w trakcie epoki: 0.005888234640595489\n",
      "Bład w trakcie epoki: 0.0059994000599940004\n",
      "Bład w trakcie epoki: 0.005544950459049177\n",
      "Bład w trakcie epoki: 0.005416215315390384\n",
      "Bład w trakcie epoki: 0.0058457041766018\n",
      "Bład w trakcie epoki: 0.005642454110420685\n",
      "Bład w trakcie epoki: 0.005666288914072395\n",
      "Bład w trakcie epoki: 0.005749640647459534\n",
      "Bład w trakcie epoki: 0.005529086524322099\n",
      "Bład w trakcie epoki: 0.005610799400033332\n",
      "Bład w trakcie epoki: 0.005420767328035366\n",
      "Bład w trakcie epoki: 0.005249737513124344\n",
      "Bład w trakcie epoki: 0.005237845816865864\n",
      "Bład w trakcie epoki: 0.005090677696468342\n",
      "Bład w trakcie epoki: 0.004956306247554454\n",
      "Bład w trakcie epoki: 0.004874796883463189\n",
      "Bład w trakcie epoki: 0.0049198032078716855\n",
      "Bład w trakcie epoki: 0.004884427522018384\n",
      "Bład w trakcie epoki: 0.004814636494944632\n",
      "Bład w trakcie epoki: 0.004678404342702046\n",
      "Bład w trakcie epoki: 0.00468949346574256\n",
      "Bład w trakcie epoki: 0.004599846671777608\n",
      "Bład w trakcie epoki: 0.004806296571078352\n",
      "Bład w trakcie epoki: 0.0047498515671385265\n",
      "Bład w trakcie epoki: 0.0048786400412108724\n",
      "Bład w trakcie epoki: 0.004999852945501603\n",
      "Bład w trakcie epoki: 0.005171280820547984\n",
      "Bład w trakcie epoki: 0.0053054081831060244\n",
      "Bład w trakcie epoki: 0.005432285613902327\n",
      "Bład w trakcie epoki: 0.005341964685139864\n",
      "Bład w trakcie epoki: 0.005333196584702956\n",
      "Bład w trakcie epoki: 0.005224869378265543\n",
      "Bład w trakcie epoki: 0.005146215945952538\n",
      "Bład w trakcie epoki: 0.005071307826004142\n",
      "Bład w trakcie epoki: 0.0050463942699007\n",
      "Bład w trakcie epoki: 0.005068066634849208\n",
      "Bład w trakcie epoki: 0.005066554076576076\n",
      "Bład w trakcie epoki: 0.00508684593813178\n",
      "Bład w trakcie epoki: 0.005021169762345482\n",
      "Bład w trakcie epoki: 0.004958230036874232\n",
      "Bład w trakcie epoki: 0.004979490214485419\n",
      "Bład w trakcie epoki: 0.0050198996020079595\n",
      "Bład w trakcie epoki: 0.004980294504029333\n",
      "Bład w trakcie epoki: 0.004999903848002923\n",
      "Bład w trakcie epoki: 0.005018773230693761\n",
      "Bład w trakcie epoki: 0.00494435288235403\n",
      "Bład w trakcie epoki: 0.004909001654515372\n",
      "Bład w trakcie epoki: 0.00492848341993893\n",
      "Bład w trakcie epoki: 0.004894650971035596\n",
      "Bład w trakcie epoki: 0.004879226220237582\n",
      "Bład w trakcie epoki: 0.004830426602938934\n",
      "Błąd: 0.004833333333333334\n"
     ]
    },
    {
     "data": {
      "image/png": "[encoded data removed]",
      "text/plain": [
       "<Figure size 432x288 with 1 Axes>"
      ]
     },
     "metadata": {
      "needs_background": "light"
     },
     "output_type": "display_data"
    },
    {
     "name": "stdout",
     "output_type": "stream",
     "text": [
      "Bład w trakcie epoki: 0.0\n",
      "Bład w trakcie epoki: 0.000999000999000999\n",
      "Bład w trakcie epoki: 0.0014992503748125937\n",
      "Bład w trakcie epoki: 0.001999333555481506\n",
      "Bład w trakcie epoki: 0.001999500124968758\n",
      "Bład w trakcie epoki: 0.002599480103979204\n",
      "Bład w trakcie epoki: 0.0023329445092484585\n",
      "Bład w trakcie epoki: 0.002571061276960434\n",
      "Bład w trakcie epoki: 0.003124609423822022\n",
      "Bład w trakcie epoki: 0.0031107654705032775\n",
      "Bład w trakcie epoki: 0.0030996900309969004\n",
      "Bład w trakcie epoki: 0.0031815289519134624\n",
      "Bład w trakcie epoki: 0.003166402799766686\n",
      "Bład w trakcie epoki: 0.003153603568956234\n",
      "Bład w trakcie epoki: 0.0032854796085993857\n",
      "Bład w trakcie epoki: 0.0035997600159989335\n",
      "Bład w trakcie epoki: 0.003874757827635773\n",
      "Bład w trakcie epoki: 0.0038233045114993234\n",
      "Bład w trakcie epoki: 0.003777567912893728\n",
      "Bład w trakcie epoki: 0.0037892742487237513\n",
      "Bład w trakcie epoki: 0.003649817509124544\n",
      "Bład w trakcie epoki: 0.0035236417313461266\n",
      "Bład w trakcie epoki: 0.003363483478023726\n",
      "Bład w trakcie epoki: 0.0033911569062214687\n",
      "Bład w trakcie epoki: 0.0033331944502312406\n",
      "Bład w trakcie epoki: 0.0033198672053117873\n",
      "Bład w trakcie epoki: 0.0033844852121072268\n",
      "Bład w trakcie epoki: 0.0034072812118069703\n",
      "Bład w trakcie epoki: 0.003499875004464126\n",
      "Bład w trakcie epoki: 0.003448156960104824\n",
      "Bład w trakcie epoki: 0.0033665544481850606\n",
      "Bład w trakcie epoki: 0.003354730492564756\n",
      "Bład w trakcie epoki: 0.0032811474641417458\n",
      "Bład w trakcie epoki: 0.003212023878064301\n",
      "Bład w trakcie epoki: 0.0031175553660186465\n",
      "Bład w trakcie epoki: 0.003028484900431416\n",
      "Bład w trakcie epoki: 0.002999916668981417\n",
      "Bład w trakcie epoki: 0.002945866327937083\n",
      "Bład w trakcie epoki: 0.0029209757637956896\n",
      "Bład w trakcie epoki: 0.0028973616061126637\n",
      "Bład w trakcie epoki: 0.00287492812679683\n",
      "Bład w trakcie epoki: 0.0028535889368551987\n",
      "Bład w trakcie epoki: 0.002785647960762839\n",
      "Bład w trakcie epoki: 0.002744122229715588\n",
      "Bład w trakcie epoki: 0.0026817572327901638\n",
      "Bład w trakcie epoki: 0.0027110508655363214\n",
      "Bład w trakcie epoki: 0.002673854916197474\n",
      "Bład w trakcie epoki: 0.0026807940256590285\n",
      "Bład w trakcie epoki: 0.0027499427095268847\n",
      "Bład w trakcie epoki: 0.002714230321830167\n",
      "Bład w trakcie epoki: 0.0026799464010719785\n",
      "Bład w trakcie epoki: 0.0026862218387874747\n",
      "Bład w trakcie epoki: 0.002711486317570816\n",
      "Bład w trakcie epoki: 0.002698062300711307\n",
      "Bład w trakcie epoki: 0.0027221718116331177\n",
      "Bład w trakcie epoki: 0.002872675042271959\n",
      "Bład w trakcie epoki: 0.0028928054856163284\n",
      "Bład w trakcie epoki: 0.0029473167137418644\n",
      "Bład w trakcie epoki: 0.00296546611265323\n",
      "Bład w trakcie epoki: 0.00298300028813071\n",
      "Błąd: 0.00305\n"
     ]
    },
    {
     "data": {
      "image/png": "[encoded data removed]",
      "text/plain": [
       "<Figure size 432x288 with 1 Axes>"
      ]
     },
     "metadata": {
      "needs_background": "light"
     },
     "output_type": "display_data"
    }
   ],
   "source": [
    "learning_error=m1.fit(XY,epochs=epochs,vis=vis)"
   ]
  },
  {
   "cell_type": "code",
   "execution_count": 25,
   "metadata": {},
   "outputs": [],
   "source": [
    "sc=m1.score(XYt)"
   ]
  },
  {
   "cell_type": "code",
   "execution_count": 26,
   "metadata": {},
   "outputs": [
    {
     "data": {
      "text/plain": [
       "0.0243"
      ]
     },
     "execution_count": 26,
     "metadata": {},
     "output_type": "execute_result"
    }
   ],
   "source": [
    "sc\n"
   ]
  },
  {
   "cell_type": "code",
   "execution_count": 27,
   "metadata": {},
   "outputs": [],
   "source": [
    "px=X[13430]"
   ]
  },
  {
   "cell_type": "code",
   "execution_count": 28,
   "metadata": {},
   "outputs": [
    {
     "data": {
      "text/plain": [
       "784"
      ]
     },
     "execution_count": 28,
     "metadata": {},
     "output_type": "execute_result"
    }
   ],
   "source": [
    "len(px)\n"
   ]
  },
  {
   "cell_type": "code",
   "execution_count": 1,
   "metadata": {},
   "outputs": [
    {
     "ename": "NameError",
     "evalue": "name 'm1' is not defined",
     "output_type": "error",
     "traceback": [
      "\u001b[0;31m---------------------------------------------------------------------------\u001b[0m",
      "\u001b[0;31mNameError\u001b[0m                                 Traceback (most recent call last)",
      "\u001b[0;32m<ipython-input-1-ab772b4c2468>\u001b[0m in \u001b[0;36m<module>\u001b[0;34m\u001b[0m\n\u001b[1;32m      1\u001b[0m \u001b[0mk\u001b[0m\u001b[0;34m=\u001b[0m\u001b[0;36m0\u001b[0m\u001b[0;34m\u001b[0m\u001b[0;34m\u001b[0m\u001b[0m\n\u001b[1;32m      2\u001b[0m \u001b[0;32mfor\u001b[0m \u001b[0mi\u001b[0m \u001b[0;32min\u001b[0m \u001b[0mrange\u001b[0m\u001b[0;34m(\u001b[0m\u001b[0;36m1000\u001b[0m\u001b[0;34m)\u001b[0m\u001b[0;34m:\u001b[0m\u001b[0;34m\u001b[0m\u001b[0;34m\u001b[0m\u001b[0m\n\u001b[0;32m----> 3\u001b[0;31m     \u001b[0mr\u001b[0m\u001b[0;34m=\u001b[0m\u001b[0mm1\u001b[0m\u001b[0;34m.\u001b[0m\u001b[0mevaluate\u001b[0m\u001b[0;34m(\u001b[0m\u001b[0mXt\u001b[0m\u001b[0;34m[\u001b[0m\u001b[0mi\u001b[0m\u001b[0;34m]\u001b[0m\u001b[0;34m)\u001b[0m\u001b[0;34m\u001b[0m\u001b[0;34m\u001b[0m\u001b[0m\n\u001b[0m\u001b[1;32m      4\u001b[0m     \u001b[0;32mif\u001b[0m \u001b[0mr\u001b[0m\u001b[0;34m[\u001b[0m\u001b[0;36m0\u001b[0m\u001b[0;34m]\u001b[0m\u001b[0;34m!=\u001b[0m\u001b[0myt\u001b[0m\u001b[0;34m[\u001b[0m\u001b[0mi\u001b[0m\u001b[0;34m]\u001b[0m\u001b[0;34m:\u001b[0m\u001b[0;34m\u001b[0m\u001b[0;34m\u001b[0m\u001b[0m\n\u001b[1;32m      5\u001b[0m         \u001b[0mk\u001b[0m\u001b[0;34m+=\u001b[0m\u001b[0;36m1\u001b[0m\u001b[0;34m\u001b[0m\u001b[0;34m\u001b[0m\u001b[0m\n",
      "\u001b[0;31mNameError\u001b[0m: name 'm1' is not defined"
     ]
    }
   ],
   "source": [
    "k=0\n",
    "for i in range(1000):\n",
    "    r=m1.evaluate(Xt[i])\n",
    "    if r[0]!=yt[i]:\n",
    "        k+=1\n",
    "        px=np.array(Xt[i])\n",
    "        px.shape=(28,28)\n",
    "        plt.imshow(px, cmap='gray', vmin=0, vmax=255)\n",
    "        plt.title(str(k)+\" Result:\"+ str(r[0]-1)+\" Expected: \"+str(yt[i]-1))\n",
    "        plt.show()"
   ]
  },
  {
   "cell_type": "code",
   "execution_count": 30,
   "metadata": {},
   "outputs": [
    {
     "data": {
      "image/png": "[encoded data removed]",
      "text/plain": [
       "<Figure size 432x288 with 1 Axes>"
      ]
     },
     "metadata": {
      "needs_background": "light"
     },
     "output_type": "display_data"
    }
   ],
   "source": []
  },
  {
   "cell_type": "code",
   "execution_count": 2,
   "metadata": {},
   "outputs": [
    {
     "ename": "NameError",
     "evalue": "name 'XY' is not defined",
     "output_type": "error",
     "traceback": [
      "\u001b[0;31m---------------------------------------------------------------------------\u001b[0m",
      "\u001b[0;31mNameError\u001b[0m                                 Traceback (most recent call last)",
      "\u001b[0;32m<ipython-input-2-9c944b7588e9>\u001b[0m in \u001b[0;36m<module>\u001b[0;34m\u001b[0m\n\u001b[0;32m----> 1\u001b[0;31m \u001b[0mXY\u001b[0m\u001b[0;34m\u001b[0m\u001b[0;34m\u001b[0m\u001b[0m\n\u001b[0m",
      "\u001b[0;31mNameError\u001b[0m: name 'XY' is not defined"
     ]
    }
   ],
   "source": []
  },
  {
   "cell_type": "code",
   "execution_count": null,
   "metadata": {},
   "outputs": [],
   "source": []
  }
 ],
 "metadata": {
  "kernelspec": {
   "display_name": "Python 3",
   "language": "python",
   "name": "python3"
  },
  "language_info": {
   "codemirror_mode": {
    "name": "ipython",
    "version": 3
   },
   "file_extension": ".py",
   "mimetype": "text/x-python",
   "name": "python",
   "nbconvert_exporter": "python",
   "pygments_lexer": "ipython3",
   "version": "3.7.1"
  }
 },
 "nbformat": 4,
 "nbformat_minor": 4
}
